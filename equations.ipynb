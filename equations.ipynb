{
 "cells": [
  {
   "attachments": {},
   "cell_type": "markdown",
   "metadata": {},
   "source": [
    "$P_a(t + 1) = \\frac{(c + n_A(t))^\\alpha}{(c + n_A(t))^\\alpha + (c + n_B(t))^\\alpha} = 1 - P_B(t)$\n",
    "\n",
    "$P_A$\n",
    "\n",
    "$P_B$\n",
    "\n",
    "$(c + n_B(t))$\n",
    "\n",
    "$(c + n_A(t))$\n",
    "\n",
    "$r \\leq P_A$\n",
    "\n",
    "$P$\n",
    "\n",
    "$A$\n",
    "\n",
    "$B$\n",
    "\n",
    "$\\tau$\n",
    "\n",
    "**iteration $t$** \\\n",
    "$t$\n",
    "\n",
    "**pheromone intensity between node $i$ and node $j$ at iteration $t$** \\\n",
    "$\\tau_{i,j}(t)$\n",
    "\n",
    "**pheromone intensity between node $i$ and node $j$ at iteration 0** \\\n",
    "$\\tau_{i,j}(0)$\n",
    "\n",
    "$\\tau_{1,4}(t)$\n",
    "\n",
    "$\\tau_{2,3}(t)$\n",
    "\n",
    "$\\tau_{4,5}(t)$\n",
    "\n",
    "**edge of node $i$ and node $j$** \\\n",
    "$(i,j)$\n",
    "\n",
    "**length of path from source to destination constructed by ant $k$ at iteration $t$** \\\n",
    "$L^k(t)$\n",
    "\n",
    "**path/solution found by ant $k$ which is the set of edges $(i, j)$ or nodes**\\\n",
    "$x^k(t)$\n",
    "\n",
    "**next generation $t + 1$**\\\n",
    "$t + 1$\n",
    "\n",
    "$j\\in\\mathscr{N}^k_i(t)$\n",
    "\n",
    "$k$\n",
    "\n",
    "$\\mathscr{N}^k_i(t)$\n",
    "\n",
    "$P^k_{i,j}=\\begin{cases}\\frac{\\tau^\\alpha_{i,j}(t)}{\\sum_{u\\in{\\mathscr{N}^k_{i}(t)}}^{}\\tau^\\alpha_{i,u}(t)} & \\text{ if } j\\in{\\mathscr{N}^k_i}(t) \\\\ 0 & \\text{ otherwise }\\end{cases}$\n",
    "\n",
    "$\\mathscr{N}^{10}_6(1) = \\{1, 2, 3\\}$\n",
    "\n",
    "$\\frac{\\tau^\\alpha_{6,1}(1)}{\\sum_{u\\in{\\mathscr{N}^{10}_6(1)}}^{10}\\tau^\\alpha_{6,u}(1)}$\n",
    "\n",
    "$\\frac{\\tau^\\alpha_{6,1}(1)}{\\tau^\\alpha_{6,1}(1) + \\tau^\\alpha_{6,2}(1) + \\tau^\\alpha_{6,3}(1)}$\n",
    "\n",
    "$\\alpha > 0$\n",
    "\n",
    "$k = \\{1, ..., n_k\\}$\n",
    "\n",
    "$n_k$\n",
    "\n",
    "$\\mathscr{N}^k_i(t) = 0$\n",
    "\n",
    "$k = \\{1, 2\\}$\n",
    "\n",
    "$G = \\{(1, 2), (1, 4), (2, 4), (2, 3), (4, 3), (3, 5), (4, 5)\\}$\n",
    "\n",
    "$\\Tau = \\begin{bmatrix}\n",
    "0 & \\tau_{1,2} & 0 & \\tau_{1,4} & 0\\\\\n",
    "\\tau_{2,1} & 0 & \\tau_{2,3} & \\tau_{2,4} & 0\\\\\n",
    "0 & \\tau_{3,2} & 0 & \\tau_{3,4} & \\tau_{3,5}\\\\\n",
    "\\tau_{4,1} & \\tau_{4,2} & \\tau_{4,3} & 0 & \\tau_{4,5}\\\\\n",
    "0 & 0 & \\tau_{5,3} & \\tau_{5,4} & 0\\\\\n",
    "\\end{bmatrix}$\n",
    "\n",
    "$D = \\begin{bmatrix}\n",
    "0 & d_{1,2} & 0 & d_{1,4} & 0\\\\\n",
    "d_{2,1} & 0 & d_{2,3} & d_{2,4} & 0\\\\\n",
    "0 & d_{3,2} & 0 & d_{3,4} & d_{3,5}\\\\\n",
    "d_{4,1} & d_{4,2} & d_{4,3} & 0 & d_{4,5}\\\\\n",
    "0 & 0 & d_{5,3} & d_{5,4} & 0\\\\\n",
    "\\end{bmatrix}$\n",
    "\n",
    "$n_k = 2$\n",
    "\n",
    "$\\alpha = 1$\n",
    "\n",
    "$Q = 1$\n",
    "\n",
    "$\\mathscr{N}^1_1(t) = \\{2, 4\\}$\n",
    "\n",
    "$P^1_{1,2}(t) = \\frac{\\tau^\\alpha_{1,2}(t)}{\\tau^\\alpha_{1,2}(t) + \\tau^\\alpha_{1,4}(t)}$\n",
    "\n",
    "$P^1_{1,4}(t) = \\frac{\\tau^\\alpha_{1,4}(t)}{\\tau^\\alpha_{1,2}(t) + \\tau^\\alpha_{1,4}(t)}$\n",
    "\n",
    "$acc = 0$\n",
    "\n",
    "$acc_{P^1_{1,2}(t)} = P^1_{1,2}(t) + acc$\n",
    "\n",
    "$acc_{P^1_{1,4}(t)} = P^1_{1,4}(t) + acc_{P^1_{1,2}(t)}$\n",
    "\n",
    "$\\mathscr{N}^1_4(t) = \\{2, 3, 5\\}$\n",
    "\n",
    "$P^1_{4,2}(t) = \\frac{\\tau^\\alpha_{4,2}(t)}{\\tau^\\alpha_{4,2}(t) + \\tau^\\alpha_{4,3}(t) + \\tau^\\alpha_{4,5}(t)}$\n",
    "\n",
    "$P^1_{4,3}(t) = \\frac{\\tau^\\alpha_{4,3}(t)}{\\tau^\\alpha_{4,2}(t) + \\tau^\\alpha_{4,3}(t) + \\tau^\\alpha_{4,5}(t)}$\n",
    "\n",
    "$P^1_{4,5}(t) = \\frac{\\tau^\\alpha_{4,5}(t)}{\\tau^\\alpha_{4,2}(t) + \\tau^\\alpha_{4,3}(t) + \\tau^\\alpha_{4,5}(t)}$\n",
    "\n",
    "$acc = 0$\n",
    "\n",
    "$acc_{P^1_{4,2}(t)} = P^1_{4,2}(t) + acc$\n",
    "\n",
    "$acc_{P^1_{4,3}(t)} = P^1_{4,3}(t) + acc_{P^1_{4,2}(t)}$\n",
    "\n",
    "$acc_{P^1_{4,5}(t)} = P^1_{4,5}(t) + acc_{P^1_{4,3}(t)}$\n",
    "\n",
    "$\\mathscr{N}^1_3(t) = \\{2, 5\\}$\n",
    "\n",
    "$P^1_{3,2}(t) = \\frac{\\tau^\\alpha_{3,2}(t)}{\\tau^\\alpha_{3,2}(t) + \\tau^\\alpha_{3,5}(t)}$\n",
    "\n",
    "$P^1_{3,5}(t) = \\frac{\\tau^\\alpha_{3,5}(t)}{\\tau^\\alpha_{3,2}(t) + \\tau^\\alpha_{3,5}(t)}$\n",
    "\n",
    "$acc = 0$\n",
    "\n",
    "$acc_{P^1_{3,2}(t)} = P^1_{3,2}(t) + acc$\n",
    "\n",
    "$acc_{P^1_{3,5}(t)} = P^1_{3,5}(t) + acc_{P^1_{3,2}(t)}$\n",
    "\n",
    "$x^1(t) = \\{1, 4, 3, 5\\}$\n",
    "\n",
    "$f(x^1(t)) = d_{1, 4} + d_{4, 3} + d_{3, 5}$\n",
    "\n",
    "$\\tau_{1, 4 | 4, 1}$\n",
    "\n",
    "$d_{1, 4 | 4, 1}$\n",
    "\n",
    "$\\tau_{1, 2 | 2, 1}$\n",
    "\n",
    "$d_{1, 2 | 2, 1}$\n",
    "\n",
    "$\\tau_{2, 3 | 3, 2}$\n",
    "\n",
    "$d_{2, 3 | 3, 2}$\n",
    "\n",
    "$\\tau_{2, 4 | 4, 2}$\n",
    "\n",
    "$d_{2, 4 | 4, 2}$\n",
    "\n",
    "$\\tau_{3, 5 | 5, 3}$\n",
    "\n",
    "$d_{3, 5 | 5, 3}$\n",
    "\n",
    "$\\tau_{4, 3 | 3, 4}$\n",
    "\n",
    "$d_{4, 3 | 3, 4}$\n",
    "\n",
    "$\\tau_{4, 5 | 5, 4}$\n",
    "\n",
    "$d_{4, 5 | 5, 4}$"
   ]
  },
  {
   "attachments": {},
   "cell_type": "markdown",
   "metadata": {},
   "source": [
    "**Sample using different methods of updating pheromone intensity/positive feedback**\\\n",
    "\n",
    "**distance adjacency matrix $D$**\\\n",
    "$D = \\begin{bmatrix}\n",
    "{-} & 10 & {-} & 6 & {-}\\\\\n",
    "10 & {-} & 2 & 14 & {-}\\\\\n",
    "{-} & 2 & {-} & 12 & 7\\\\\n",
    "6 & 14 & 12 & {-} & 15\\\\\n",
    "{-} & {-} & 7 & 15 & {-}\\\\\n",
    "\\end{bmatrix}$\n",
    "\n",
    "**pheromone intensity adjacency matrix $\\Tau$**\\\n",
    "$\\Tau = \\begin{bmatrix}\n",
    "{-} & 0.3 & {-} & 0.8 & {-}\\\\\n",
    "0.3 & {-} & 1.5 & 0.1 & {-}\\\\\n",
    "{-} & 1.5 & {-} & 0.9 & 0.5\\\\\n",
    "0.8 & 0.1 & 0.9 & {-} & 0.2\\\\\n",
    "{-} & {-} & 0.5 & 0.2 & {-}\\\\\n",
    "\\end{bmatrix}$\n",
    "\n",
    "$\\tau_{i,j}(t + 1) = \\tau_{i, j}(t) + \\sum_{k = 1}^{n_k} \\Delta \\tau^k_{i, j}(t)$\n",
    "\n",
    "$x^1(t) = \\{1, 4, 3, 5\\} | \\{(1, 4), (4, 3), (3, 5)\\}$\n",
    "\n",
    "$x^2(t) = \\{1, 2, 3, 5\\} | \\{(1, 2), (2, 3), (3, 5)\\}$\n",
    "\n",
    "**For Ant-Cycle with Ant System 1**\\\n",
    "$\\tau_{1, 4 | 4, 1}(t + 1) = \\tau_{1, 4 | 4, 1}(t) + \\frac{Q}{f(x^1(t))} + 0$\n",
    "\n",
    "$\\tau_{1, 2 | 2, 1}(t + 1) = \\tau_{1, 2 | 2, 1}(t) + 0 + \\frac{Q}{f(x^2(t))}$\n",
    "\n",
    "$f(x^1(t))$ is 4 since length of $x^1(t) = \\{1, 2, 3, 5\\} | \\{(1, 2), (2, 3), (3, 5)\\}$ is 4\\\n",
    "$\\tau_{1, 4 | 4, 1}(t + 1) = 0.8 + \\frac{1}{4} + 0$\n",
    "\n",
    "$f(x^2(t))$ is 4 since length of $x^2(t) = \\{1, 2, 3, 5\\} | \\{(1, 2), (2, 3), (3, 5)\\}$ is 4\\\n",
    "$\\tau_{1, 2 | 2, 1}(t + 1) = 0.8 + 0 + \\frac{1}{4}$\n",
    "\n",
    "**Ant-density with Ant System 1**\\\n",
    "$\\tau_{1, 4 | 4, 1}(t + 1) = \\tau_{1, 4 | 4, 1}(t) + Q + 0$\n",
    "\n",
    "$\\tau_{1, 2 | 2, 1}(t + 1) = \\tau_{1, 2 | 2, 1}(t) + 0 + Q$\n",
    "\n",
    "$\\tau_{1, 4 | 4, 1}(t + 1) = 0.8 + 1 + 0$\n",
    "\n",
    "$\\tau_{1, 2 | 2, 1}(t + 1) = 0.8 + 0 + 1$\n",
    "\n",
    "**Ant-quantity with Ant System 1**\\\n",
    "$\\tau_{1, 4 | 4, 1}(t + 1) = \\tau_{1, 4 | 4, 1}(t) + \\frac{Q}{d_{i, j}(t)} + 0$\n",
    "\n",
    "$\\tau_{1, 2 | 2, 1}(t + 1) = \\tau_{1, 2 | 2, 1}(t) + 0 + \\frac{Q}{d_{i, j}(t)}$\n",
    "\n",
    "$\\tau_{1, 4 | 4, 1}(t + 1) = 0.8 + \\frac{1}{6} + 0$\n",
    "\n",
    "$\\tau_{1, 2 | 2, 1}(t + 1) = 0.8 + 0 + \\frac{1}{10}$\n",
    "\n",
    "$(1, 4)$\n",
    "\n",
    "$(1, 2)$\n",
    "\n",
    "$(1, 4 | 4, 1)$\n",
    "\n",
    "$(1, 2 | 2, 1)$\n",
    "\n",
    "$(2, 3 | 3, 2)$\n",
    "\n",
    "$(2, 4 | 4, 2)$\n",
    "\n",
    "$(3, 5 | 5, 3)$\n",
    "\n",
    "$(4, 3 | 3, 4)$\n",
    "\n",
    "$(4, 5 | 5, 4)$\n"
   ]
  },
  {
   "cell_type": "markdown",
   "metadata": {},
   "source": [
    "$y = mx + \\beta$"
   ]
  },
  {
   "cell_type": "markdown",
   "metadata": {},
   "source": [
    "$y = \\theta_1x + \\beta_0$"
   ]
  },
  {
   "cell_type": "markdown",
   "metadata": {},
   "source": [
    "$y = \\beta_0 + \\theta_1x_1 + \\theta_2x_2 + \\theta_3x_3 + \\cdots$"
   ]
  },
  {
   "cell_type": "markdown",
   "metadata": {},
   "source": [
    "$y = \\beta_01 + \\theta_1x_1 + \\theta_2x_2 + \\theta_3x_3 + \\cdots$"
   ]
  },
  {
   "cell_type": "markdown",
   "metadata": {},
   "source": [
    "$y = \\theta_01 + \\theta_1x_1 + \\theta_2x_2 + \\theta_3x_3 + \\cdots + \\theta_nx_n$"
   ]
  },
  {
   "cell_type": "markdown",
   "metadata": {},
   "source": [
    "And so this is where the linear algebra part of machine learning comes into play. Where instead of singular values we now perform usual MDAS (mulitplication, division, addition, and subtraction) operations on multiple values simulataneously."
   ]
  },
  {
   "cell_type": "markdown",
   "metadata": {},
   "source": [
    "$\\begin{bmatrix}\n",
    "{\\theta_1} & {\\theta_2} & {\\theta_3} & {\\theta_4} & {\\cdots} & {\\theta_n}\\\\\n",
    "\\end{bmatrix}$"
   ]
  },
  {
   "cell_type": "markdown",
   "metadata": {},
   "source": [
    "$\\begin{bmatrix}\n",
    "{x_1} & {x_2} & {x_3} & {x_4} & {\\cdots} & {x_n}\\\\\n",
    "\\end{bmatrix}$"
   ]
  },
  {
   "cell_type": "markdown",
   "metadata": {},
   "source": [
    "$y = \\begin{bmatrix}\n",
    "{\\theta_1} \\\\ {\\theta_2} \\\\ {\\theta_3} \\\\ {\\theta_4} \\\\ {\\vdots} \\\\ {\\theta_n}\\\\\n",
    "\\end{bmatrix} \\cdot \\begin{bmatrix}\n",
    "{x_1} & {x_2} & {x_3} & {x_4} & {\\cdots} & {x_n}\\\\\n",
    "\\end{bmatrix} + \\beta_0$ "
   ]
  },
  {
   "cell_type": "markdown",
   "metadata": {},
   "source": [
    "$y = \\theta x + \\beta_0$"
   ]
  },
  {
   "cell_type": "markdown",
   "metadata": {},
   "source": [
    "$J(\\theta)=\\frac{1}{2m} (\\sum_{i = 0}^{m - 1}(h_\\theta(x^{(i)}) - y^{(i)}))$"
   ]
  },
  {
   "cell_type": "markdown",
   "metadata": {},
   "source": [
    "$J(\\theta)=\\frac{1}{2m} \\sum_{i = 0}^{m - 1}((mx^{(i)}+\\beta) - y^{(i)})^2$"
   ]
  },
  {
   "cell_type": "markdown",
   "metadata": {},
   "source": [
    "$J(\\frac{1}{3}, 1)=\\frac{1}{2m} ((\\frac{1}{3}(2)+1) - 6)^2 + ((\\frac{1}{3}(4)+1) - 7)^2 + ((\\frac{1}{3}(5)+1) - 10)^2 + ((\\frac{1}{3}(9)+1) - 13)^2 + ((\\frac{1}{3}(12)+1) - 13)^2$"
   ]
  },
  {
   "cell_type": "markdown",
   "metadata": {},
   "source": [
    "$J(1, 2)=\\frac{1}{2m} ((1(2)+2) - 6)^2 + ((1(4)+2) - 7)^2 + ((1(5)+2) - 10)^2 + ((1(9)+2) - 13)^2 + ((1(12)+2) - 13)^2$"
   ]
  },
  {
   "cell_type": "code",
   "execution_count": 173,
   "metadata": {},
   "outputs": [],
   "source": [
    "import pandas as pd\n",
    "import numpy as np\n",
    "import matplotlib.pyplot as plt\n",
    "import dataframe_image as dfi"
   ]
  },
  {
   "cell_type": "code",
   "execution_count": 174,
   "metadata": {},
   "outputs": [
    {
     "data": {
      "text/html": [
       "<div>\n",
       "<style scoped>\n",
       "    .dataframe tbody tr th:only-of-type {\n",
       "        vertical-align: middle;\n",
       "    }\n",
       "\n",
       "    .dataframe tbody tr th {\n",
       "        vertical-align: top;\n",
       "    }\n",
       "\n",
       "    .dataframe thead th {\n",
       "        text-align: right;\n",
       "    }\n",
       "</style>\n",
       "<table border=\"1\" class=\"dataframe\">\n",
       "  <thead>\n",
       "    <tr style=\"text-align: right;\">\n",
       "      <th></th>\n",
       "      <th>x</th>\n",
       "      <th>y</th>\n",
       "    </tr>\n",
       "  </thead>\n",
       "  <tbody>\n",
       "    <tr>\n",
       "      <th>0</th>\n",
       "      <td>2</td>\n",
       "      <td>6</td>\n",
       "    </tr>\n",
       "    <tr>\n",
       "      <th>1</th>\n",
       "      <td>4</td>\n",
       "      <td>7</td>\n",
       "    </tr>\n",
       "    <tr>\n",
       "      <th>2</th>\n",
       "      <td>5</td>\n",
       "      <td>10</td>\n",
       "    </tr>\n",
       "    <tr>\n",
       "      <th>3</th>\n",
       "      <td>9</td>\n",
       "      <td>13</td>\n",
       "    </tr>\n",
       "    <tr>\n",
       "      <th>4</th>\n",
       "      <td>12</td>\n",
       "      <td>13</td>\n",
       "    </tr>\n",
       "  </tbody>\n",
       "</table>\n",
       "</div>"
      ],
      "text/plain": [
       "    x   y\n",
       "0   2   6\n",
       "1   4   7\n",
       "2   5  10\n",
       "3   9  13\n",
       "4  12  13"
      ]
     },
     "execution_count": 174,
     "metadata": {},
     "output_type": "execute_result"
    }
   ],
   "source": [
    "data_a = pd.DataFrame({'x': [2, 4, 5, 9, 12], 'y': [6, 7, 10, 13, 13]})\n",
    "data_a"
   ]
  },
  {
   "cell_type": "code",
   "execution_count": 175,
   "metadata": {},
   "outputs": [
    {
     "data": {
      "text/html": [
       "<div>\n",
       "<style scoped>\n",
       "    .dataframe tbody tr th:only-of-type {\n",
       "        vertical-align: middle;\n",
       "    }\n",
       "\n",
       "    .dataframe tbody tr th {\n",
       "        vertical-align: top;\n",
       "    }\n",
       "\n",
       "    .dataframe thead th {\n",
       "        text-align: right;\n",
       "    }\n",
       "</style>\n",
       "<table border=\"1\" class=\"dataframe\">\n",
       "  <thead>\n",
       "    <tr style=\"text-align: right;\">\n",
       "      <th></th>\n",
       "      <th>x</th>\n",
       "      <th>y</th>\n",
       "    </tr>\n",
       "  </thead>\n",
       "  <tbody>\n",
       "    <tr>\n",
       "      <th>0</th>\n",
       "      <td>2</td>\n",
       "      <td>6</td>\n",
       "    </tr>\n",
       "    <tr>\n",
       "      <th>1</th>\n",
       "      <td>4</td>\n",
       "      <td>7</td>\n",
       "    </tr>\n",
       "    <tr>\n",
       "      <th>2</th>\n",
       "      <td>5</td>\n",
       "      <td>10</td>\n",
       "    </tr>\n",
       "    <tr>\n",
       "      <th>3</th>\n",
       "      <td>9</td>\n",
       "      <td>13</td>\n",
       "    </tr>\n",
       "    <tr>\n",
       "      <th>4</th>\n",
       "      <td>12</td>\n",
       "      <td>13</td>\n",
       "    </tr>\n",
       "    <tr>\n",
       "      <th>5</th>\n",
       "      <td>15</td>\n",
       "      <td>12</td>\n",
       "    </tr>\n",
       "  </tbody>\n",
       "</table>\n",
       "</div>"
      ],
      "text/plain": [
       "    x   y\n",
       "0   2   6\n",
       "1   4   7\n",
       "2   5  10\n",
       "3   9  13\n",
       "4  12  13\n",
       "5  15  12"
      ]
     },
     "execution_count": 175,
     "metadata": {},
     "output_type": "execute_result"
    }
   ],
   "source": [
    "data_b = pd.DataFrame({'x': [2, 4, 5, 9, 12, 15], 'y': [6, 7, 10, 13, 13, 12]})\n",
    "data_b"
   ]
  },
  {
   "cell_type": "code",
   "execution_count": 176,
   "metadata": {},
   "outputs": [],
   "source": [
    "dfi.export(data_a, './assets/data_a.png')\n",
    "dfi.export(data_b, './assets/data_b.png')"
   ]
  },
  {
   "cell_type": "code",
   "execution_count": 177,
   "metadata": {},
   "outputs": [],
   "source": [
    "h = lambda x: (1 / 3) * x + 1"
   ]
  },
  {
   "cell_type": "code",
   "execution_count": 178,
   "metadata": {},
   "outputs": [],
   "source": [
    "data_a['pred_y'] = data_a['x'].apply(h)\n",
    "data_a['error'] = data_a['pred_y'] - data_a['y']"
   ]
  },
  {
   "cell_type": "code",
   "execution_count": 179,
   "metadata": {},
   "outputs": [
    {
     "data": {
      "text/html": [
       "<div>\n",
       "<style scoped>\n",
       "    .dataframe tbody tr th:only-of-type {\n",
       "        vertical-align: middle;\n",
       "    }\n",
       "\n",
       "    .dataframe tbody tr th {\n",
       "        vertical-align: top;\n",
       "    }\n",
       "\n",
       "    .dataframe thead th {\n",
       "        text-align: right;\n",
       "    }\n",
       "</style>\n",
       "<table border=\"1\" class=\"dataframe\">\n",
       "  <thead>\n",
       "    <tr style=\"text-align: right;\">\n",
       "      <th></th>\n",
       "      <th>x</th>\n",
       "      <th>y</th>\n",
       "      <th>pred_y</th>\n",
       "      <th>error</th>\n",
       "    </tr>\n",
       "  </thead>\n",
       "  <tbody>\n",
       "    <tr>\n",
       "      <th>0</th>\n",
       "      <td>2</td>\n",
       "      <td>6</td>\n",
       "      <td>1.666667</td>\n",
       "      <td>-4.333333</td>\n",
       "    </tr>\n",
       "    <tr>\n",
       "      <th>1</th>\n",
       "      <td>4</td>\n",
       "      <td>7</td>\n",
       "      <td>2.333333</td>\n",
       "      <td>-4.666667</td>\n",
       "    </tr>\n",
       "    <tr>\n",
       "      <th>2</th>\n",
       "      <td>5</td>\n",
       "      <td>10</td>\n",
       "      <td>2.666667</td>\n",
       "      <td>-7.333333</td>\n",
       "    </tr>\n",
       "    <tr>\n",
       "      <th>3</th>\n",
       "      <td>9</td>\n",
       "      <td>13</td>\n",
       "      <td>4.000000</td>\n",
       "      <td>-9.000000</td>\n",
       "    </tr>\n",
       "    <tr>\n",
       "      <th>4</th>\n",
       "      <td>12</td>\n",
       "      <td>13</td>\n",
       "      <td>5.000000</td>\n",
       "      <td>-8.000000</td>\n",
       "    </tr>\n",
       "  </tbody>\n",
       "</table>\n",
       "</div>"
      ],
      "text/plain": [
       "    x   y    pred_y     error\n",
       "0   2   6  1.666667 -4.333333\n",
       "1   4   7  2.333333 -4.666667\n",
       "2   5  10  2.666667 -7.333333\n",
       "3   9  13  4.000000 -9.000000\n",
       "4  12  13  5.000000 -8.000000"
      ]
     },
     "execution_count": 179,
     "metadata": {},
     "output_type": "execute_result"
    }
   ],
   "source": [
    "data_a"
   ]
  },
  {
   "cell_type": "code",
   "execution_count": 180,
   "metadata": {},
   "outputs": [],
   "source": [
    "dfi.export(data_a, './assets/error_unoptimized.png')"
   ]
  },
  {
   "cell_type": "code",
   "execution_count": 181,
   "metadata": {},
   "outputs": [],
   "source": [
    "data_a['squared_error'] = data_a['error'] ** 2"
   ]
  },
  {
   "cell_type": "code",
   "execution_count": 182,
   "metadata": {},
   "outputs": [
    {
     "data": {
      "text/html": [
       "<div>\n",
       "<style scoped>\n",
       "    .dataframe tbody tr th:only-of-type {\n",
       "        vertical-align: middle;\n",
       "    }\n",
       "\n",
       "    .dataframe tbody tr th {\n",
       "        vertical-align: top;\n",
       "    }\n",
       "\n",
       "    .dataframe thead th {\n",
       "        text-align: right;\n",
       "    }\n",
       "</style>\n",
       "<table border=\"1\" class=\"dataframe\">\n",
       "  <thead>\n",
       "    <tr style=\"text-align: right;\">\n",
       "      <th></th>\n",
       "      <th>x</th>\n",
       "      <th>y</th>\n",
       "      <th>pred_y</th>\n",
       "      <th>error</th>\n",
       "      <th>squared_error</th>\n",
       "    </tr>\n",
       "  </thead>\n",
       "  <tbody>\n",
       "    <tr>\n",
       "      <th>0</th>\n",
       "      <td>2</td>\n",
       "      <td>6</td>\n",
       "      <td>1.666667</td>\n",
       "      <td>-4.333333</td>\n",
       "      <td>18.777778</td>\n",
       "    </tr>\n",
       "    <tr>\n",
       "      <th>1</th>\n",
       "      <td>4</td>\n",
       "      <td>7</td>\n",
       "      <td>2.333333</td>\n",
       "      <td>-4.666667</td>\n",
       "      <td>21.777778</td>\n",
       "    </tr>\n",
       "    <tr>\n",
       "      <th>2</th>\n",
       "      <td>5</td>\n",
       "      <td>10</td>\n",
       "      <td>2.666667</td>\n",
       "      <td>-7.333333</td>\n",
       "      <td>53.777778</td>\n",
       "    </tr>\n",
       "    <tr>\n",
       "      <th>3</th>\n",
       "      <td>9</td>\n",
       "      <td>13</td>\n",
       "      <td>4.000000</td>\n",
       "      <td>-9.000000</td>\n",
       "      <td>81.000000</td>\n",
       "    </tr>\n",
       "    <tr>\n",
       "      <th>4</th>\n",
       "      <td>12</td>\n",
       "      <td>13</td>\n",
       "      <td>5.000000</td>\n",
       "      <td>-8.000000</td>\n",
       "      <td>64.000000</td>\n",
       "    </tr>\n",
       "  </tbody>\n",
       "</table>\n",
       "</div>"
      ],
      "text/plain": [
       "    x   y    pred_y     error  squared_error\n",
       "0   2   6  1.666667 -4.333333      18.777778\n",
       "1   4   7  2.333333 -4.666667      21.777778\n",
       "2   5  10  2.666667 -7.333333      53.777778\n",
       "3   9  13  4.000000 -9.000000      81.000000\n",
       "4  12  13  5.000000 -8.000000      64.000000"
      ]
     },
     "execution_count": 182,
     "metadata": {},
     "output_type": "execute_result"
    }
   ],
   "source": [
    "data_a"
   ]
  },
  {
   "cell_type": "code",
   "execution_count": 183,
   "metadata": {},
   "outputs": [],
   "source": [
    "dfi.export(data_a, './assets/squared_error_unoptimized.png')"
   ]
  },
  {
   "cell_type": "code",
   "execution_count": 184,
   "metadata": {},
   "outputs": [
    {
     "data": {
      "text/plain": [
       "23.933333333333334"
      ]
     },
     "execution_count": 184,
     "metadata": {},
     "output_type": "execute_result"
    }
   ],
   "source": [
    "mse = (data_a['error'] ** 2).sum() / (2 * data_a.shape[0])\n",
    "mse"
   ]
  },
  {
   "cell_type": "code",
   "execution_count": 185,
   "metadata": {},
   "outputs": [],
   "source": [
    "h_optimized = lambda x: (1) * x + 2"
   ]
  },
  {
   "cell_type": "code",
   "execution_count": 186,
   "metadata": {},
   "outputs": [],
   "source": [
    "data_a['pred_y'] = data_a['x'].apply(h_optimized)\n",
    "data_a['error'] = data_a['pred_y'] - data_a['y']"
   ]
  },
  {
   "cell_type": "code",
   "execution_count": 187,
   "metadata": {},
   "outputs": [
    {
     "data": {
      "text/html": [
       "<div>\n",
       "<style scoped>\n",
       "    .dataframe tbody tr th:only-of-type {\n",
       "        vertical-align: middle;\n",
       "    }\n",
       "\n",
       "    .dataframe tbody tr th {\n",
       "        vertical-align: top;\n",
       "    }\n",
       "\n",
       "    .dataframe thead th {\n",
       "        text-align: right;\n",
       "    }\n",
       "</style>\n",
       "<table border=\"1\" class=\"dataframe\">\n",
       "  <thead>\n",
       "    <tr style=\"text-align: right;\">\n",
       "      <th></th>\n",
       "      <th>x</th>\n",
       "      <th>y</th>\n",
       "      <th>pred_y</th>\n",
       "      <th>error</th>\n",
       "    </tr>\n",
       "  </thead>\n",
       "  <tbody>\n",
       "    <tr>\n",
       "      <th>0</th>\n",
       "      <td>2</td>\n",
       "      <td>6</td>\n",
       "      <td>4</td>\n",
       "      <td>-2</td>\n",
       "    </tr>\n",
       "    <tr>\n",
       "      <th>1</th>\n",
       "      <td>4</td>\n",
       "      <td>7</td>\n",
       "      <td>6</td>\n",
       "      <td>-1</td>\n",
       "    </tr>\n",
       "    <tr>\n",
       "      <th>2</th>\n",
       "      <td>5</td>\n",
       "      <td>10</td>\n",
       "      <td>7</td>\n",
       "      <td>-3</td>\n",
       "    </tr>\n",
       "    <tr>\n",
       "      <th>3</th>\n",
       "      <td>9</td>\n",
       "      <td>13</td>\n",
       "      <td>11</td>\n",
       "      <td>-2</td>\n",
       "    </tr>\n",
       "    <tr>\n",
       "      <th>4</th>\n",
       "      <td>12</td>\n",
       "      <td>13</td>\n",
       "      <td>14</td>\n",
       "      <td>1</td>\n",
       "    </tr>\n",
       "  </tbody>\n",
       "</table>\n",
       "</div>"
      ],
      "text/plain": [
       "    x   y  pred_y  error\n",
       "0   2   6       4     -2\n",
       "1   4   7       6     -1\n",
       "2   5  10       7     -3\n",
       "3   9  13      11     -2\n",
       "4  12  13      14      1"
      ]
     },
     "execution_count": 187,
     "metadata": {},
     "output_type": "execute_result"
    }
   ],
   "source": [
    "data_a.drop(columns=['squared_error'], inplace=True)\n",
    "data_a"
   ]
  },
  {
   "cell_type": "code",
   "execution_count": 188,
   "metadata": {},
   "outputs": [],
   "source": [
    "dfi.export(data_a, './assets/error_optimized.png')"
   ]
  },
  {
   "cell_type": "code",
   "execution_count": 189,
   "metadata": {},
   "outputs": [],
   "source": [
    "data_a['squared_error'] = data_a['error'] ** 2"
   ]
  },
  {
   "cell_type": "code",
   "execution_count": 190,
   "metadata": {},
   "outputs": [
    {
     "data": {
      "text/html": [
       "<div>\n",
       "<style scoped>\n",
       "    .dataframe tbody tr th:only-of-type {\n",
       "        vertical-align: middle;\n",
       "    }\n",
       "\n",
       "    .dataframe tbody tr th {\n",
       "        vertical-align: top;\n",
       "    }\n",
       "\n",
       "    .dataframe thead th {\n",
       "        text-align: right;\n",
       "    }\n",
       "</style>\n",
       "<table border=\"1\" class=\"dataframe\">\n",
       "  <thead>\n",
       "    <tr style=\"text-align: right;\">\n",
       "      <th></th>\n",
       "      <th>x</th>\n",
       "      <th>y</th>\n",
       "      <th>pred_y</th>\n",
       "      <th>error</th>\n",
       "      <th>squared_error</th>\n",
       "    </tr>\n",
       "  </thead>\n",
       "  <tbody>\n",
       "    <tr>\n",
       "      <th>0</th>\n",
       "      <td>2</td>\n",
       "      <td>6</td>\n",
       "      <td>4</td>\n",
       "      <td>-2</td>\n",
       "      <td>4</td>\n",
       "    </tr>\n",
       "    <tr>\n",
       "      <th>1</th>\n",
       "      <td>4</td>\n",
       "      <td>7</td>\n",
       "      <td>6</td>\n",
       "      <td>-1</td>\n",
       "      <td>1</td>\n",
       "    </tr>\n",
       "    <tr>\n",
       "      <th>2</th>\n",
       "      <td>5</td>\n",
       "      <td>10</td>\n",
       "      <td>7</td>\n",
       "      <td>-3</td>\n",
       "      <td>9</td>\n",
       "    </tr>\n",
       "    <tr>\n",
       "      <th>3</th>\n",
       "      <td>9</td>\n",
       "      <td>13</td>\n",
       "      <td>11</td>\n",
       "      <td>-2</td>\n",
       "      <td>4</td>\n",
       "    </tr>\n",
       "    <tr>\n",
       "      <th>4</th>\n",
       "      <td>12</td>\n",
       "      <td>13</td>\n",
       "      <td>14</td>\n",
       "      <td>1</td>\n",
       "      <td>1</td>\n",
       "    </tr>\n",
       "  </tbody>\n",
       "</table>\n",
       "</div>"
      ],
      "text/plain": [
       "    x   y  pred_y  error  squared_error\n",
       "0   2   6       4     -2              4\n",
       "1   4   7       6     -1              1\n",
       "2   5  10       7     -3              9\n",
       "3   9  13      11     -2              4\n",
       "4  12  13      14      1              1"
      ]
     },
     "execution_count": 190,
     "metadata": {},
     "output_type": "execute_result"
    }
   ],
   "source": [
    "data_a"
   ]
  },
  {
   "cell_type": "code",
   "execution_count": 191,
   "metadata": {},
   "outputs": [],
   "source": [
    "dfi.export(data_a, './assets/squared_error_optimized.png')"
   ]
  },
  {
   "cell_type": "code",
   "execution_count": 192,
   "metadata": {},
   "outputs": [
    {
     "data": {
      "text/plain": [
       "1.9"
      ]
     },
     "execution_count": 192,
     "metadata": {},
     "output_type": "execute_result"
    }
   ],
   "source": [
    "optimized_mse = (data_a['error'] ** 2).sum() / (2 * data_a.shape[0])\n",
    "optimized_mse"
   ]
  }
 ],
 "metadata": {
  "kernelspec": {
   "display_name": "medium-articles",
   "language": "python",
   "name": "python3"
  },
  "language_info": {
   "codemirror_mode": {
    "name": "ipython",
    "version": 3
   },
   "file_extension": ".py",
   "mimetype": "text/x-python",
   "name": "python",
   "nbconvert_exporter": "python",
   "pygments_lexer": "ipython3",
   "version": "3.11.5"
  },
  "orig_nbformat": 4
 },
 "nbformat": 4,
 "nbformat_minor": 2
}
